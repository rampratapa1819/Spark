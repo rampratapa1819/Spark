{
 "cells": [
  {
   "cell_type": "code",
   "execution_count": 4,
   "metadata": {},
   "outputs": [],
   "source": [
    "import findspark\n",
    "findspark.init(r'C:\\Users\\HP\\spark\\spark_home')"
   ]
  },
  {
   "cell_type": "code",
   "execution_count": 5,
   "metadata": {},
   "outputs": [],
   "source": [
    "import pyspark\n",
    "from pyspark import SparkConf\n",
    "from pyspark.context import SparkContext\n",
    "sc = SparkContext.getOrCreate(SparkConf())"
   ]
  },
  {
   "cell_type": "code",
   "execution_count": 6,
   "metadata": {},
   "outputs": [],
   "source": [
    "movies = sc.textFile('movies.csv')\n",
    "ratings = sc.textFile('ratings.csv')"
   ]
  },
  {
   "cell_type": "code",
   "execution_count": 19,
   "metadata": {},
   "outputs": [],
   "source": [
    "featu= ratings.first()\n",
    "ratings1 = ratings.filter(lambda x:x!=featu) \n",
    "ratings1 = ratings.map(lambda x:(x.split(',')[1],float(x.split(',')[2])))\n",
    "reduce = ratings1.reduceByKey(lambda x,y:x+y)"
   ]
  },
  {
   "cell_type": "code",
   "execution_count": 20,
   "metadata": {},
   "outputs": [],
   "source": [
    "top_movies = rdd_reduce.map(lambda x:(x[1],x[0])).sortByKey(ascending=False)\n",
    "movie_id = top_movies.map(lambda x:x[1])"
   ]
  },
  {
   "cell_type": "code",
   "execution_count": 61,
   "metadata": {},
   "outputs": [],
   "source": [
    "featu1 = movies.first()\n",
    "movies_filter = movies.filter(lambda x:x!=featu1)"
   ]
  },
  {
   "cell_type": "code",
   "execution_count": 62,
   "metadata": {},
   "outputs": [
    {
     "data": {
      "text/plain": [
       "'1,Toy Story (1995),Adventure|Animation|Children|Comedy|Fantasy'"
      ]
     },
     "execution_count": 62,
     "metadata": {},
     "output_type": "execute_result"
    }
   ],
   "source": [
    "movies_filter.first()"
   ]
  },
  {
   "cell_type": "code",
   "execution_count": 63,
   "metadata": {},
   "outputs": [],
   "source": [
    "movies_split = movies_fil.map(lambda x:(x.split(',')[0],x.split(',')[1],x.split(',')[2]))"
   ]
  },
  {
   "cell_type": "code",
   "execution_count": 67,
   "metadata": {},
   "outputs": [
    {
     "data": {
      "text/plain": [
       "('1', 'Toy Story (1995)', 'Adventure|Animation|Children|Comedy|Fantasy')"
      ]
     },
     "execution_count": 67,
     "metadata": {},
     "output_type": "execute_result"
    }
   ],
   "source": [
    "movies_split.first()"
   ]
  },
  {
   "cell_type": "code",
   "execution_count": 109,
   "metadata": {},
   "outputs": [],
   "source": [
    "ids = movies_split.map(lambda x:x[0]) \n",
    "title = movies_split.map(lambda x:x[1])\n",
    "genre = movies_split.map(lambda x:x[2])"
   ]
  },
  {
   "cell_type": "code",
   "execution_count": 155,
   "metadata": {},
   "outputs": [],
   "source": [
    "movid = movie_id.take(100)"
   ]
  },
  {
   "cell_type": "code",
   "execution_count": 153,
   "metadata": {},
   "outputs": [],
   "source": [
    "mov = movies_split.collect()"
   ]
  },
  {
   "cell_type": "code",
   "execution_count": 179,
   "metadata": {},
   "outputs": [
    {
     "name": "stdout",
     "output_type": "stream",
     "text": [
      "1 Toy Story (1995) Adventure|Animation|Children|Comedy|Fantasy\n",
      "10 GoldenEye (1995) Action|Adventure|Thriller\n",
      "32 Twelve Monkeys (a.k.a. 12 Monkeys) (1995) Mystery|Sci-Fi|Thriller\n",
      "34 Babe (1995) Children|Drama\n",
      "47 Seven (a.k.a. Se7en) (1995) Mystery|Thriller\n",
      "50 \"Usual Suspects  The (1995)\"\n",
      "110 Braveheart (1995) Action|Drama|War\n",
      "111 Taxi Driver (1976) Crime|Drama|Thriller\n",
      "150 Apollo 13 (1995) Adventure|Drama|IMAX\n",
      "153 Batman Forever (1995) Action|Adventure|Comedy|Crime\n",
      "165 Die Hard: With a Vengeance (1995) Action|Crime|Thriller\n",
      "231 Dumb & Dumber (Dumb and Dumber) (1994) Adventure|Comedy\n",
      "253 Interview with the Vampire: The Vampire Chronicles (1994) Drama|Horror\n",
      "260 Star Wars: Episode IV - A New Hope (1977) Action|Adventure|Sci-Fi\n",
      "293 Léon: The Professional (a.k.a. The Professional) (Léon) (1994) Action|Crime|Drama|Thriller\n",
      "296 Pulp Fiction (1994) Comedy|Crime|Drama|Thriller\n",
      "316 Stargate (1994) Action|Adventure|Sci-Fi\n",
      "318 \"Shawshank Redemption  The (1994)\"\n",
      "344 Ace Ventura: Pet Detective (1994) Comedy\n",
      "349 Clear and Present Danger (1994) Action|Crime|Drama|Thriller\n",
      "356 Forrest Gump (1994) Comedy|Drama|Romance|War\n",
      "357 Four Weddings and a Funeral (1994) Comedy|Romance\n",
      "364 \"Lion King  The (1994)\"\n",
      "367 \"Mask  The (1994)\"\n",
      "377 Speed (1994) Action|Romance|Thriller\n",
      "380 True Lies (1994) Action|Adventure|Comedy|Romance|Thriller\n",
      "457 \"Fugitive  The (1993)\"\n",
      "480 Jurassic Park (1993) Action|Adventure|Sci-Fi|Thriller\n",
      "500 Mrs. Doubtfire (1993) Comedy|Drama\n",
      "527 Schindler's List (1993) Drama|War\n",
      "539 Sleepless in Seattle (1993) Comedy|Drama|Romance\n",
      "541 Blade Runner (1982) Action|Sci-Fi|Thriller\n",
      "587 Ghost (1990) Comedy|Drama|Fantasy|Romance|Thriller\n",
      "588 Aladdin (1992) Adventure|Animation|Children|Comedy|Musical\n",
      "589 Terminator 2: Judgment Day (1991) Action|Sci-Fi\n",
      "590 Dances with Wolves (1990) Adventure|Drama|Western\n",
      "592 Batman (1989) Action|Crime|Thriller\n",
      "593 \"Silence of the Lambs  The (1991)\"\n",
      "595 Beauty and the Beast (1991) Animation|Children|Fantasy|Musical|Romance|IMAX\n",
      "597 Pretty Woman (1990) Comedy|Romance\n",
      "608 Fargo (1996) Comedy|Crime|Drama|Thriller\n",
      "648 Mission: Impossible (1996) Action|Adventure|Mystery|Thriller\n",
      "733 \"Rock  The (1996)\"\n",
      "736 Twister (1996) Action|Adventure|Romance|Thriller\n",
      "750 Dr. Strangelove or: How I Learned to Stop Worrying and Love the Bomb (1964) Comedy|War\n",
      "778 Trainspotting (1996) Comedy|Crime|Drama\n",
      "780 Independence Day (a.k.a. ID4) (1996) Action|Adventure|Sci-Fi|Thriller\n",
      "858 \"Godfather  The (1972)\"\n",
      "912 Casablanca (1942) Drama|Romance\n",
      "919 \"Wizard of Oz  The (1939)\"\n",
      "924 2001: A Space Odyssey (1968) Adventure|Drama|Sci-Fi\n",
      "1036 Die Hard (1988) Action|Crime|Thriller\n",
      "1073 Willy Wonka & the Chocolate Factory (1971) Children|Comedy|Fantasy|Musical\n",
      "1089 Reservoir Dogs (1992) Crime|Mystery|Thriller\n",
      "1097 E.T. the Extra-Terrestrial (1982) Children|Drama|Sci-Fi\n",
      "1136 Monty Python and the Holy Grail (1975) Adventure|Comedy|Fantasy\n",
      "1193 One Flew Over the Cuckoo's Nest (1975) Drama\n",
      "1196 Star Wars: Episode V - The Empire Strikes Back (1980) Action|Adventure|Sci-Fi\n",
      "1197 \"Princess Bride  The (1987)\"\n",
      "1198 Raiders of the Lost Ark (Indiana Jones and the Raiders of the Lost Ark) (1981) Action|Adventure\n",
      "1200 Aliens (1986) Action|Adventure|Horror|Sci-Fi\n",
      "1206 \"Clockwork Orange  A (1971)\"\n",
      "1208 Apocalypse Now (1979) Action|Drama|War\n",
      "1210 Star Wars: Episode VI - Return of the Jedi (1983) Action|Adventure|Sci-Fi\n",
      "1213 Goodfellas (1990) Crime|Drama\n",
      "1214 Alien (1979) Horror|Sci-Fi\n",
      "1221 \"Godfather: Part II  The (1974)\"\n",
      "1240 \"Terminator  The (1984)\"\n",
      "1258 \"Shining  The (1980)\"\n",
      "1265 Groundhog Day (1993) Comedy|Fantasy|Romance\n",
      "1270 Back to the Future (1985) Adventure|Comedy|Sci-Fi\n",
      "1291 Indiana Jones and the Last Crusade (1989) Action|Adventure\n",
      "1527 \"Fifth Element  The (1997)\"\n",
      "1580 Men in Black (a.k.a. MIB) (1997) Action|Comedy|Sci-Fi\n",
      "1617 L.A. Confidential (1997) Crime|Film-Noir|Mystery|Thriller\n",
      "1682 \"Truman Show  The (1998)\"\n",
      "1704 Good Will Hunting (1997) Drama|Romance\n",
      "1721 Titanic (1997) Drama|Romance\n",
      "1961 Rain Man (1988) Drama\n",
      "2028 Saving Private Ryan (1998) Action|Drama|War\n",
      "2329 American History X (1998) Crime|Drama\n",
      "2396 Shakespeare in Love (1998) Comedy|Drama|Romance\n",
      "2571 \"Matrix  The (1999)\"\n",
      "2716 Ghostbusters (a.k.a. Ghost Busters) (1984) Action|Comedy|Sci-Fi\n",
      "2762 \"Sixth Sense  The (1999)\"\n",
      "2858 American Beauty (1999) Comedy|Drama\n",
      "2918 Ferris Bueller's Day Off (1986) Comedy\n",
      "2959 Fight Club (1999) Action|Crime|Drama|Thriller\n",
      "2997 Being John Malkovich (1999) Comedy|Drama|Fantasy\n",
      "3578 Gladiator (2000) Action|Adventure|Drama\n",
      "3793 X-Men (2000) Action|Adventure|Sci-Fi\n",
      "3996 \"Crouching Tiger  Hidden Dragon (Wo hu cang long) (2000)\"\n",
      "4226 Memento (2000) Mystery|Thriller\n",
      "4306 Shrek (2001) Adventure|Animation|Children|Comedy|Fantasy|Romance\n",
      "4886 \"Monsters  Inc. (2001)\"\n",
      "4973 \"Amelie (Fabuleux destin d'Amélie Poulain  Le) (2001)\"\n",
      "4993 \"Lord of the Rings: The Fellowship of the Ring  The (2001)\"\n",
      "5952 \"Lord of the Rings: The Two Towers  The (2002)\"\n",
      "6539 Pirates of the Caribbean: The Curse of the Black Pearl (2003) Action|Adventure|Comedy|Fantasy\n",
      "7153 \"Lord of the Rings: The Return of the King  The (2003)\"\n"
     ]
    }
   ],
   "source": [
    "for i in mov:\n",
    "    if i[0] in movid:\n",
    "        print(i[0],i[1],i[2])"
   ]
  }
 ],
 "metadata": {
  "kernelspec": {
   "display_name": "Python 3",
   "language": "python",
   "name": "python3"
  },
  "language_info": {
   "codemirror_mode": {
    "name": "ipython",
    "version": 3
   },
   "file_extension": ".py",
   "mimetype": "text/x-python",
   "name": "python",
   "nbconvert_exporter": "python",
   "pygments_lexer": "ipython3",
   "version": "3.7.3"
  }
 },
 "nbformat": 4,
 "nbformat_minor": 2
}
